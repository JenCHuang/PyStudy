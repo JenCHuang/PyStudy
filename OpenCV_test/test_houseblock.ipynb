{
 "cells": [
  {
   "cell_type": "code",
   "execution_count": 1,
   "id": "3bc35915",
   "metadata": {},
   "outputs": [],
   "source": [
    "import cv2 \n",
    "import numpy as np "
   ]
  },
  {
   "cell_type": "code",
   "execution_count": 8,
   "id": "e62185e0",
   "metadata": {},
   "outputs": [
    {
     "data": {
      "text/plain": [
       "(768, 1024, 3)"
      ]
     },
     "execution_count": 8,
     "metadata": {},
     "output_type": "execute_result"
    }
   ],
   "source": [
    "# img=cv2.imread('./house_block_1.png',cv2.IMREAD_COLOR)\n",
    "img=cv2.imread('./house_block_2.png',cv2.IMREAD_COLOR)\n",
    "img.shape"
   ]
  },
  {
   "cell_type": "code",
   "execution_count": 9,
   "id": "c1b03c7d",
   "metadata": {},
   "outputs": [
    {
     "data": {
      "text/plain": [
       "(768, 1024)"
      ]
     },
     "execution_count": 9,
     "metadata": {},
     "output_type": "execute_result"
    }
   ],
   "source": [
    "testarr = np.ones(img.shape[0:2], dtype=np.int32)\n",
    "testarr.shape"
   ]
  },
  {
   "cell_type": "code",
   "execution_count": 10,
   "id": "6ee43c82",
   "metadata": {},
   "outputs": [
    {
     "name": "stdout",
     "output_type": "stream",
     "text": [
      "0\n",
      "[0 0 0]\n"
     ]
    }
   ],
   "source": [
    "img2 = img.astype(np.int32)\n",
    "testarr = img2[:,:,0]+255*img2[:,:,1]+(255**2)*img2[:,:,2]\n",
    "print(testarr[0,0])\n",
    "print(img[0,0,:])"
   ]
  },
  {
   "cell_type": "code",
   "execution_count": 11,
   "id": "ad86e368",
   "metadata": {},
   "outputs": [
    {
     "data": {
      "text/plain": [
       "array([       0,  1985916,  4607727,  5665002,  7975855, 10988961,\n",
       "       16059981, 16499477])"
      ]
     },
     "execution_count": 11,
     "metadata": {},
     "output_type": "execute_result"
    }
   ],
   "source": [
    "# for white background\n",
    "# unique = np.unique(testarr)[::-1]\n",
    "\n",
    "# for black background\n",
    "unique = np.unique(testarr)\n",
    "\n",
    "unique"
   ]
  },
  {
   "cell_type": "code",
   "execution_count": 12,
   "id": "4693070c",
   "metadata": {},
   "outputs": [],
   "source": [
    "testarr2 = np.zeros(img.shape[0:2], dtype=np.int32)\n",
    "for ind, i in enumerate(unique):\n",
    "    testarr2 = np.where(testarr == i,ind,testarr2)"
   ]
  },
  {
   "cell_type": "code",
   "execution_count": 13,
   "id": "920a0111",
   "metadata": {},
   "outputs": [],
   "source": [
    "# Testing block\n",
    "testarr3 = testarr2*(255/7)\n",
    "testarr3 =testarr3.astype(np.uint8)\n",
    "cv2.imshow('test_img',testarr3)\n",
    "cv2.waitKey(0) \n",
    "cv2.destroyAllWindows()"
   ]
  }
 ],
 "metadata": {
  "kernelspec": {
   "display_name": "Python 3 (ipykernel)",
   "language": "python",
   "name": "python3"
  },
  "language_info": {
   "codemirror_mode": {
    "name": "ipython",
    "version": 3
   },
   "file_extension": ".py",
   "mimetype": "text/x-python",
   "name": "python",
   "nbconvert_exporter": "python",
   "pygments_lexer": "ipython3",
   "version": "3.8.13"
  }
 },
 "nbformat": 4,
 "nbformat_minor": 5
}
