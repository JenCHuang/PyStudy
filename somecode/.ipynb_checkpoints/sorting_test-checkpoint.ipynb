{
 "cells": [
  {
   "cell_type": "code",
   "execution_count": 1,
   "id": "3bee3f2d",
   "metadata": {},
   "outputs": [],
   "source": [
    "def swapByValue(data,i,j):\n",
    "    tmp=data.index(j)\n",
    "    data[data.index(i)] = j\n",
    "    data[tmp] = i\n",
    "\n",
    "def SelectionSort(data):\n",
    "    result = data.copy()\n",
    "    ind = 0\n",
    "    for i in result:\n",
    "        t = i\n",
    "        ind+=1\n",
    "        for j in result[ind:]:\n",
    "            if j < t: t=j\n",
    "        if t != i:\n",
    "            swapByValue(result,i,t)\n",
    "    return result"
   ]
  },
  {
   "cell_type": "code",
   "execution_count": 2,
   "id": "02e0e5b7",
   "metadata": {},
   "outputs": [],
   "source": [
    "def swap(data,i,j):\n",
    "    tmp = data[i]\n",
    "    data[i]=data[j]\n",
    "    data[j]=tmp\n",
    "\n",
    "def BubbleSort(data):\n",
    "    result = data.copy()\n",
    "    flag=True\n",
    "    while flag:\n",
    "        for i in range(len(result)):\n",
    "            flag=False\n",
    "            for j in range(len(result)-i-1):\n",
    "                if result[j]>result[j+1]:\n",
    "                    swap(result,j,j+1)\n",
    "                    flag=True\n",
    "    return result\n",
    "\n",
    "def ShakerSort(data):\n",
    "    result = data.copy()\n",
    "    left=0\n",
    "    right=len(result)-1\n",
    "    flag=0\n",
    "    while right>left:\n",
    "        contral=left\n",
    "        while contral<right:\n",
    "            if result[contral] > result[contral+1]:\n",
    "                swap(result,contral,contral+1)\n",
    "                flag=contral\n",
    "            contral+=1\n",
    "        right,contral=flag,flag\n",
    "        while contral>left:\n",
    "            if result[contral] < result[contral-1]:\n",
    "                swap(result,contral,contral-1)\n",
    "                flag=contral\n",
    "            contral-=1\n",
    "        left = flag\n",
    "    return result"
   ]
  },
  {
   "cell_type": "code",
   "execution_count": 32,
   "id": "4f0c5313",
   "metadata": {},
   "outputs": [],
   "source": [
    "def QuickSort(data,left=0,right=None):\n",
    "    if right == None: right=len(data)-1\n",
    "    if left >= right: return data\n",
    "    result = list(data)\n",
    "    pivot = result[left]\n",
    "    i,j=left,right\n",
    "    while i < j:\n",
    "        while (i<j and result[i]<=pivot): i+=1\n",
    "        while (j>i and result[j]>pivot): j-=1\n",
    "        if i!=j: \n",
    "            swap(result,i,j)\n",
    "    if result[i] < pivot:\n",
    "        result[left] = result[i]\n",
    "        result[i] = pivot\n",
    "    else:\n",
    "        i=i-1\n",
    "        result[left] = result[i]\n",
    "        result[i] = pivot\n",
    "    \n",
    "    result=QuickSort(result,left,i-1)\n",
    "    result=QuickSort(result,i+1,right)\n",
    "    return result"
   ]
  },
  {
   "cell_type": "code",
   "execution_count": 29,
   "id": "a82b82e4",
   "metadata": {},
   "outputs": [],
   "source": [
    "y = [10,34,65,22,15,102,2,9,147,81]"
   ]
  },
  {
   "cell_type": "code",
   "execution_count": 30,
   "id": "afab6657",
   "metadata": {
    "scrolled": true
   },
   "outputs": [
    {
     "name": "stdout",
     "output_type": "stream",
     "text": [
      "[10, 34, 65, 22, 15, 102, 2, 9, 147, 81]\n"
     ]
    },
    {
     "data": {
      "text/plain": [
       "[2, 9, 10, 15, 22, 34, 65, 81, 102, 147]"
      ]
     },
     "execution_count": 30,
     "metadata": {},
     "output_type": "execute_result"
    }
   ],
   "source": [
    "#%%timeit\n",
    "print(y)\n",
    "SelectionSort(y)"
   ]
  },
  {
   "cell_type": "code",
   "execution_count": 31,
   "id": "da8f61ba",
   "metadata": {},
   "outputs": [
    {
     "data": {
      "text/plain": [
       "[2, 9, 10, 15, 22, 34, 65, 81, 102, 147]"
      ]
     },
     "execution_count": 31,
     "metadata": {},
     "output_type": "execute_result"
    }
   ],
   "source": [
    "x=SelectionSort(y)\n",
    "x"
   ]
  },
  {
   "cell_type": "code",
   "execution_count": 8,
   "id": "c01d7a55",
   "metadata": {},
   "outputs": [
    {
     "name": "stdout",
     "output_type": "stream",
     "text": [
      "[10, 34, 65, 22, 15, 102, 2, 9, 147, 81]\n"
     ]
    },
    {
     "data": {
      "text/plain": [
       "[2, 9, 10, 15, 22, 34, 65, 81, 102, 147]"
      ]
     },
     "execution_count": 8,
     "metadata": {},
     "output_type": "execute_result"
    }
   ],
   "source": [
    "#%%timeit\n",
    "print(y)\n",
    "BubbleSort(y)"
   ]
  },
  {
   "cell_type": "code",
   "execution_count": 9,
   "id": "3e80823e",
   "metadata": {},
   "outputs": [
    {
     "name": "stdout",
     "output_type": "stream",
     "text": [
      "[10, 34, 65, 22, 15, 102, 2, 9, 147, 81]\n"
     ]
    },
    {
     "data": {
      "text/plain": [
       "[2, 9, 10, 15, 22, 34, 65, 81, 102, 147]"
      ]
     },
     "execution_count": 9,
     "metadata": {},
     "output_type": "execute_result"
    }
   ],
   "source": [
    "#%%timeit\n",
    "print(y)\n",
    "ShakerSort(y)"
   ]
  },
  {
   "cell_type": "code",
   "execution_count": 33,
   "id": "02ae6ff1",
   "metadata": {
    "scrolled": false
   },
   "outputs": [
    {
     "name": "stdout",
     "output_type": "stream",
     "text": [
      "[10, 34, 65, 22, 15, 102, 2, 9, 147, 81]\n"
     ]
    },
    {
     "ename": "TypeError",
     "evalue": "'NoneType' object is not iterable",
     "output_type": "error",
     "traceback": [
      "\u001b[1;31m---------------------------------------------------------------------------\u001b[0m",
      "\u001b[1;31mTypeError\u001b[0m                                 Traceback (most recent call last)",
      "Input \u001b[1;32mIn [33]\u001b[0m, in \u001b[0;36m<cell line: 3>\u001b[1;34m()\u001b[0m\n\u001b[0;32m      1\u001b[0m \u001b[38;5;66;03m#%%timeit\u001b[39;00m\n\u001b[0;32m      2\u001b[0m \u001b[38;5;28mprint\u001b[39m(y)\n\u001b[1;32m----> 3\u001b[0m \u001b[43mQuickSort\u001b[49m\u001b[43m(\u001b[49m\u001b[43my\u001b[49m\u001b[43m)\u001b[49m\n",
      "Input \u001b[1;32mIn [32]\u001b[0m, in \u001b[0;36mQuickSort\u001b[1;34m(data, left, right)\u001b[0m\n\u001b[0;32m     18\u001b[0m     result[i] \u001b[38;5;241m=\u001b[39m pivot\n\u001b[0;32m     20\u001b[0m result\u001b[38;5;241m=\u001b[39mQuickSort(result,left,i\u001b[38;5;241m-\u001b[39m\u001b[38;5;241m1\u001b[39m)\n\u001b[1;32m---> 21\u001b[0m result\u001b[38;5;241m=\u001b[39m\u001b[43mQuickSort\u001b[49m\u001b[43m(\u001b[49m\u001b[43mresult\u001b[49m\u001b[43m,\u001b[49m\u001b[43mi\u001b[49m\u001b[38;5;241;43m+\u001b[39;49m\u001b[38;5;241;43m1\u001b[39;49m\u001b[43m,\u001b[49m\u001b[43mright\u001b[49m\u001b[43m)\u001b[49m\n\u001b[0;32m     22\u001b[0m \u001b[38;5;28;01mreturn\u001b[39;00m result\n",
      "Input \u001b[1;32mIn [32]\u001b[0m, in \u001b[0;36mQuickSort\u001b[1;34m(data, left, right)\u001b[0m\n\u001b[0;32m      2\u001b[0m \u001b[38;5;28;01mif\u001b[39;00m right \u001b[38;5;241m==\u001b[39m \u001b[38;5;28;01mNone\u001b[39;00m: right\u001b[38;5;241m=\u001b[39m\u001b[38;5;28mlen\u001b[39m(data)\u001b[38;5;241m-\u001b[39m\u001b[38;5;241m1\u001b[39m\n\u001b[0;32m      3\u001b[0m \u001b[38;5;28;01mif\u001b[39;00m left \u001b[38;5;241m>\u001b[39m\u001b[38;5;241m=\u001b[39m right: \u001b[38;5;28;01mreturn\u001b[39;00m\n\u001b[1;32m----> 4\u001b[0m result \u001b[38;5;241m=\u001b[39m \u001b[38;5;28;43mlist\u001b[39;49m\u001b[43m(\u001b[49m\u001b[43mdata\u001b[49m\u001b[43m)\u001b[49m\n\u001b[0;32m      5\u001b[0m pivot \u001b[38;5;241m=\u001b[39m result[left]\n\u001b[0;32m      6\u001b[0m i,j\u001b[38;5;241m=\u001b[39mleft,right\n",
      "\u001b[1;31mTypeError\u001b[0m: 'NoneType' object is not iterable"
     ]
    }
   ],
   "source": [
    "#%%timeit\n",
    "print(y)\n",
    "QuickSort(y)"
   ]
  },
  {
   "cell_type": "code",
   "execution_count": null,
   "id": "236a3fa1",
   "metadata": {},
   "outputs": [],
   "source": [
    "#%%timeit\n",
    "print(y)\n",
    "print(QuickSort(y))\n",
    "print(y)"
   ]
  },
  {
   "cell_type": "code",
   "execution_count": null,
   "id": "507a3784",
   "metadata": {},
   "outputs": [],
   "source": [
    "[10, 34, 65, 22, 15, 102, 2, 9, 147, 81]\n",
    "[2, 9, 10, 22, 15, 102, 65, 34, 147, 81]\n",
    "[22, 15, 102, 65, 34, 147, 81]\n"
   ]
  },
  {
   "cell_type": "code",
   "execution_count": 34,
   "id": "8e9c9d6a",
   "metadata": {},
   "outputs": [],
   "source": [
    "data=[]\n",
    "p=list(data)"
   ]
  }
 ],
 "metadata": {
  "kernelspec": {
   "display_name": "Python 3 (ipykernel)",
   "language": "python",
   "name": "python3"
  },
  "language_info": {
   "codemirror_mode": {
    "name": "ipython",
    "version": 3
   },
   "file_extension": ".py",
   "mimetype": "text/x-python",
   "name": "python",
   "nbconvert_exporter": "python",
   "pygments_lexer": "ipython3",
   "version": "3.8.13"
  }
 },
 "nbformat": 4,
 "nbformat_minor": 5
}
