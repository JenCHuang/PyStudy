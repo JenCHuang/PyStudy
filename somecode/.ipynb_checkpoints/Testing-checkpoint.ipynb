{
 "cells": [
  {
   "cell_type": "code",
   "execution_count": 28,
   "id": "c3e1c8fa-f6e5-4046-a605-0ce1d9f18abe",
   "metadata": {},
   "outputs": [
    {
     "name": "stdin",
     "output_type": "stream",
     "text": [
      "Input a number between 1~100 (round 1) :  a\n"
     ]
    },
    {
     "name": "stdout",
     "output_type": "stream",
     "text": [
      "a is not a integer !!!!\n"
     ]
    },
    {
     "name": "stdin",
     "output_type": "stream",
     "text": [
      "Input a number between 1~100 (round 1) :  12.2\n"
     ]
    },
    {
     "name": "stdout",
     "output_type": "stream",
     "text": [
      "12.2 is not a integer !!!!\n"
     ]
    },
    {
     "name": "stdin",
     "output_type": "stream",
     "text": [
      "Input a number between 1~100 (round 1) :  1\n"
     ]
    },
    {
     "name": "stdout",
     "output_type": "stream",
     "text": [
      "1~100\n"
     ]
    },
    {
     "name": "stdin",
     "output_type": "stream",
     "text": [
      "Input a number between 1~100 (round 2) :  5\n"
     ]
    },
    {
     "name": "stdout",
     "output_type": "stream",
     "text": [
      "5~100\n"
     ]
    },
    {
     "name": "stdin",
     "output_type": "stream",
     "text": [
      "Input a number between 5~100 (round 3) :  5\n"
     ]
    },
    {
     "name": "stdout",
     "output_type": "stream",
     "text": [
      "5~100\n"
     ]
    },
    {
     "name": "stdin",
     "output_type": "stream",
     "text": [
      "Input a number between 5~100 (round 4) :  55\n"
     ]
    },
    {
     "name": "stdout",
     "output_type": "stream",
     "text": [
      "5~55\n"
     ]
    },
    {
     "name": "stdin",
     "output_type": "stream",
     "text": [
      "Input a number between 5~55 (round 5) :  50\n"
     ]
    },
    {
     "name": "stdout",
     "output_type": "stream",
     "text": [
      "Bingo!!\n"
     ]
    }
   ],
   "source": [
    "bl, bu = 1, 100\n",
    "ans = 50 # 之後改寫為亂數\n",
    "#ans = random.randint(1,100)\n",
    "i=1\n",
    "while True:\n",
    "    num=input(f'Input a number between {bl}~{bu} (round {i}) : ')\n",
    "    if not num.isdigit():\n",
    "        print(f'{num} is not a integer !!!!')\n",
    "        #break\n",
    "    else:\n",
    "        num = int(num)      \n",
    "        i+=1\n",
    "    \n",
    "        if num not in range(bl,bu+1):\n",
    "            print(f\"The number is not in range {bl}~{bu} !!\")\n",
    "        elif num>ans: \n",
    "            bu=num\n",
    "            print(f'{bl}~{bu}')\n",
    "        elif num<ans: \n",
    "            bl=num\n",
    "            print(f'{bl}~{bu}')\n",
    "        else:\n",
    "            print('Bingo!!')\n",
    "            break"
   ]
  },
  {
   "cell_type": "code",
   "execution_count": 6,
   "id": "c90cebb3-6a79-4c06-880f-02ff78587de3",
   "metadata": {},
   "outputs": [],
   "source": [
    "# 測試亂數\n",
    "import random"
   ]
  },
  {
   "cell_type": "code",
   "execution_count": 14,
   "id": "a64a5775-0797-48f2-8714-1e95708e9a48",
   "metadata": {},
   "outputs": [
    {
     "name": "stdout",
     "output_type": "stream",
     "text": [
      "56\n"
     ]
    }
   ],
   "source": [
    "print(random.randint(1,100))"
   ]
  },
  {
   "cell_type": "code",
   "execution_count": 3,
   "id": "cecb9ef3-430a-4eb7-8517-685e9adceac7",
   "metadata": {},
   "outputs": [
    {
     "name": "stdin",
     "output_type": "stream",
     "text": [
      "Input a number between 0~99 (round 1) :  51\n"
     ]
    },
    {
     "name": "stdout",
     "output_type": "stream",
     "text": [
      "0 ~ 50\n"
     ]
    },
    {
     "name": "stdin",
     "output_type": "stream",
     "text": [
      "Input a number between 0~50 (round 2) :  41\n"
     ]
    },
    {
     "name": "stdout",
     "output_type": "stream",
     "text": [
      "42 ~ 50\n"
     ]
    },
    {
     "name": "stdin",
     "output_type": "stream",
     "text": [
      "Input a number between 42~50 (round 3) :  44\n"
     ]
    },
    {
     "name": "stdout",
     "output_type": "stream",
     "text": [
      "45 ~ 50\n"
     ]
    },
    {
     "name": "stdin",
     "output_type": "stream",
     "text": [
      "Input a number between 45~50 (round 4) :  49\n"
     ]
    },
    {
     "name": "stdout",
     "output_type": "stream",
     "text": [
      "50 ~ 50\n"
     ]
    },
    {
     "name": "stdin",
     "output_type": "stream",
     "text": [
      "Input a number between 50~50 (round 5) :  50\n"
     ]
    },
    {
     "name": "stdout",
     "output_type": "stream",
     "text": [
      "Bingo!!\n",
      "Chance used out !!\n"
     ]
    }
   ],
   "source": [
    "# 限制次數\n",
    "bound=[0,99]\n",
    "ans = 50\n",
    "for i in range(5):\n",
    "    num=int(input(f'Input a number between {bound[0]}~{bound[1]} (round {i+1}) : '))\n",
    "    if num not in range(bound[0],bound[1]+1):\n",
    "        print(f\"Number not in range {bound[0]}~{bound[1]} !!\")\n",
    "    elif num>ans: \n",
    "        bound[1]=num-1\n",
    "        print(f'{bound[0]} ~ {bound[1]}')\n",
    "    elif num<ans: \n",
    "        bound[0]=num+1\n",
    "        print(f'{bound[0]} ~ {bound[1]}')\n",
    "    else:\n",
    "        print('Bingo!!')\n",
    "        break\n",
    "    if i==4: print('Chance used out !!')"
   ]
  },
  {
   "cell_type": "code",
   "execution_count": 23,
   "id": "52f2ef72-c3a0-4189-b354-10edd4f30fcc",
   "metadata": {},
   "outputs": [
    {
     "name": "stdin",
     "output_type": "stream",
     "text": [
      " 15.2\n"
     ]
    },
    {
     "data": {
      "text/plain": [
       "'15.2'"
      ]
     },
     "execution_count": 23,
     "metadata": {},
     "output_type": "execute_result"
    }
   ],
   "source": [
    "# Test input's format\n",
    "a = input()\n",
    "a"
   ]
  },
  {
   "cell_type": "code",
   "execution_count": 24,
   "id": "8c19eb4a-5063-45ad-850a-989d5c96cbf7",
   "metadata": {},
   "outputs": [
    {
     "data": {
      "text/plain": [
       "False"
      ]
     },
     "execution_count": 24,
     "metadata": {},
     "output_type": "execute_result"
    }
   ],
   "source": [
    "a.isdigit()"
   ]
  },
  {
   "cell_type": "code",
   "execution_count": 32,
   "id": "08a9b8ae-58a0-4d30-88ee-93c8eda73aa6",
   "metadata": {},
   "outputs": [
    {
     "name": "stdout",
     "output_type": "stream",
     "text": [
      "Please guess a integer number between 1~100. \n",
      "You have 5 chances !\n"
     ]
    }
   ],
   "source": [
    "chance = 5\n",
    "print(f'Please guess a integer number between 1~100. \\nYou have {chance} chances !')"
   ]
  },
  {
   "cell_type": "code",
   "execution_count": 17,
   "id": "9987eb2e-a2d8-457a-99a8-cef118b18b22",
   "metadata": {},
   "outputs": [
    {
     "name": "stdout",
     "output_type": "stream",
     "text": [
      "  *\n",
      " ***\n"
     ]
    }
   ],
   "source": [
    "n = 2\n",
    "tb = n*2-1\n",
    "for idx in range(n):\n",
    "    #nst=idx*2+1\n",
    "    #nsp=n-idx  # 即1+(tb-nst)*0.5\n",
    "    print(' '*(n-idx) + '*'*(idx*2+1))\n",
    "    #fp =' '*(n-idx) + '*'*(idx*2+1)\n",
    "    #print(fp)"
   ]
  },
  {
   "cell_type": "code",
   "execution_count": 10,
   "id": "93793ea9-e086-42d6-b4e8-15e89c0a6578",
   "metadata": {},
   "outputs": [
    {
     "data": {
      "text/plain": [
       "int"
      ]
     },
     "execution_count": 10,
     "metadata": {},
     "output_type": "execute_result"
    }
   ],
   "source": [
    "t=2\n",
    "f=\"a\"*t\n",
    "type(t)"
   ]
  },
  {
   "cell_type": "code",
   "execution_count": null,
   "id": "66df5a26-c463-4cb4-b2b8-fbf29e64a861",
   "metadata": {},
   "outputs": [],
   "source": []
  },
  {
   "cell_type": "code",
   "execution_count": null,
   "id": "eb4a9f30-7d44-44c8-8031-87b67d70c498",
   "metadata": {},
   "outputs": [],
   "source": []
  },
  {
   "cell_type": "markdown",
   "id": "808e80e4-7e2f-43bf-ae2a-2c9820926e57",
   "metadata": {},
   "source": [
    "<br>\n",
    "<br>\n",
    "<hr>\n",
    "Following are very evil things, please make the owner (teatcher) befor you run it !!"
   ]
  },
  {
   "cell_type": "code",
   "execution_count": 4,
   "id": "863e9b54-8f99-482a-ba31-f90728071093",
   "metadata": {},
   "outputs": [],
   "source": [
    "import os\n",
    "import shutil"
   ]
  },
  {
   "cell_type": "code",
   "execution_count": 2,
   "id": "f92fa2c5-d9aa-4a87-869b-ca8d75b645fb",
   "metadata": {},
   "outputs": [],
   "source": [
    "path_local = r'C:\\Shared'\n",
    "path_origin= r'//172.22.34.240/Shared'"
   ]
  },
  {
   "cell_type": "code",
   "execution_count": null,
   "id": "f795bd15-cd3e-4163-b77b-44f4e93dee07",
   "metadata": {},
   "outputs": [],
   "source": [
    "# 這一段用來測試是不是能連到老師的share資料夾\n",
    "# 不會放在程式內\n",
    "import shutil\n",
    "originfile = '//172.22.34.240/Shared/BDSE_Python/datatype.ipynb'\n",
    "localpath = r'C:\\Users\\Student\\Downloads\\datatype_test.ipynb'\n",
    "shutil.copyfile(originfile, localpath)\n"
   ]
  },
  {
   "cell_type": "code",
   "execution_count": 12,
   "id": "b8ad92f7-2c89-4657-8a8a-3f4dbdde9000",
   "metadata": {},
   "outputs": [
    {
     "data": {
      "text/plain": [
       "91"
      ]
     },
     "execution_count": 12,
     "metadata": {},
     "output_type": "execute_result"
    }
   ],
   "source": [
    "lst_l = []\n",
    "for paths, dirs, files in os.walk(path_local):\n",
    "    for f in files:\n",
    "        lst_l.append(paths.split(path_local)[-1]+'\\\\'+f)\n",
    "len(lst_l)"
   ]
  },
  {
   "cell_type": "code",
   "execution_count": 13,
   "id": "2bf9a91b-8f4b-4844-a8e3-de774214c79e",
   "metadata": {},
   "outputs": [
    {
     "name": "stdout",
     "output_type": "stream",
     "text": [
      "\\BDSE_HTML\\VSCodeUserSetup-x64-1.65.2.exe\n",
      "\\BDSE_HTML\\WebSite-BDSE25-01\\01-first.html\n",
      "\\BDSE_HTML\\WebSite-BDSE25-01\\02-List.html\n",
      "\\BDSE_HTML\\WebSite-BDSE25-01\\03-Hyperlink.html\n",
      "\\BDSE_HTML\\WebSite-BDSE25-01\\04-CSS01_inline.html\n"
     ]
    }
   ],
   "source": [
    "for i in range(5):\n",
    "    print(lst_l[i])"
   ]
  },
  {
   "cell_type": "code",
   "execution_count": null,
   "id": "29df9d51-af43-45ac-802f-1dff4b663cdf",
   "metadata": {},
   "outputs": [],
   "source": [
    "for paths, dirs, files in os.walk(path_local):\n",
    "    for f in files:\n",
    "        fmark = path_origin[-1]+'\\\\'+f\n",
    "        # 老師資料夾有，本地資料夾沒有的，將其複製一份\n",
    "        if fmark not in lst_l:\n",
    "            shutil.copyfile(path_origin+f, path_local+f)\n",
    "        # 老師資料夾有，本地資料夾有，但是是舊的，將其複製一份覆蓋本地資料\n",
    "        elif os.path.getmtime(path_origin+f) > os.path.getmtime(path_local+f):\n",
    "            shutil.copyfile(path_origin+f, path_local+f)"
   ]
  },
  {
   "cell_type": "code",
   "execution_count": null,
   "id": "c71ac5da",
   "metadata": {},
   "outputs": [],
   "source": []
  },
  {
   "cell_type": "code",
   "execution_count": 7,
   "id": "6bb7b242",
   "metadata": {},
   "outputs": [
    {
     "name": "stdout",
     "output_type": "stream",
     "text": [
      "done\n"
     ]
    }
   ],
   "source": [
    "path = r\"C:\\Users\\gentoo\\Documents\\My_iSpan\\JSstudy\\AJAX\\basic\\labp13data\"\n",
    "for i in range(18,30):\n",
    "    strt = str(i)\n",
    "    if i < 10: \n",
    "        strt = \"0\" + strt\n",
    "    filen = path + r\"\\202206\" + strt +\".txt\"\n",
    "    with open(filen,\"w\") as f:\n",
    "        continue\n",
    "print('done')"
   ]
  },
  {
   "cell_type": "code",
   "execution_count": null,
   "id": "7d6991a4",
   "metadata": {},
   "outputs": [],
   "source": []
  }
 ],
 "metadata": {
  "kernelspec": {
   "display_name": "Python 3 (ipykernel)",
   "language": "python",
   "name": "python3"
  },
  "language_info": {
   "codemirror_mode": {
    "name": "ipython",
    "version": 3
   },
   "file_extension": ".py",
   "mimetype": "text/x-python",
   "name": "python",
   "nbconvert_exporter": "python",
   "pygments_lexer": "ipython3",
   "version": "3.9.12"
  }
 },
 "nbformat": 4,
 "nbformat_minor": 5
}
