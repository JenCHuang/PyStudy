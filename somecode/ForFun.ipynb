{
 "cells": [
  {
   "cell_type": "code",
   "execution_count": 28,
   "id": "c3e1c8fa-f6e5-4046-a605-0ce1d9f18abe",
   "metadata": {},
   "outputs": [
    {
     "name": "stdin",
     "output_type": "stream",
     "text": [
      "Input a number between 1~100 (round 1) :  a\n"
     ]
    },
    {
     "name": "stdout",
     "output_type": "stream",
     "text": [
      "a is not a integer !!!!\n"
     ]
    },
    {
     "name": "stdin",
     "output_type": "stream",
     "text": [
      "Input a number between 1~100 (round 1) :  12.2\n"
     ]
    },
    {
     "name": "stdout",
     "output_type": "stream",
     "text": [
      "12.2 is not a integer !!!!\n"
     ]
    },
    {
     "name": "stdin",
     "output_type": "stream",
     "text": [
      "Input a number between 1~100 (round 1) :  1\n"
     ]
    },
    {
     "name": "stdout",
     "output_type": "stream",
     "text": [
      "1~100\n"
     ]
    },
    {
     "name": "stdin",
     "output_type": "stream",
     "text": [
      "Input a number between 1~100 (round 2) :  5\n"
     ]
    },
    {
     "name": "stdout",
     "output_type": "stream",
     "text": [
      "5~100\n"
     ]
    },
    {
     "name": "stdin",
     "output_type": "stream",
     "text": [
      "Input a number between 5~100 (round 3) :  5\n"
     ]
    },
    {
     "name": "stdout",
     "output_type": "stream",
     "text": [
      "5~100\n"
     ]
    },
    {
     "name": "stdin",
     "output_type": "stream",
     "text": [
      "Input a number between 5~100 (round 4) :  55\n"
     ]
    },
    {
     "name": "stdout",
     "output_type": "stream",
     "text": [
      "5~55\n"
     ]
    },
    {
     "name": "stdin",
     "output_type": "stream",
     "text": [
      "Input a number between 5~55 (round 5) :  50\n"
     ]
    },
    {
     "name": "stdout",
     "output_type": "stream",
     "text": [
      "Bingo!!\n"
     ]
    }
   ],
   "source": [
    "bl, bu = 1, 100\n",
    "ans = 50 # 之後改寫為亂數\n",
    "#ans = random.randint(1,100)\n",
    "i=1\n",
    "while True:\n",
    "    num=input(f'Input a number between {bl}~{bu} (round {i}) : ')\n",
    "    if not num.isdigit():\n",
    "        print(f'{num} is not a integer !!!!')\n",
    "        #break\n",
    "    else:\n",
    "        num = int(num)      \n",
    "        i+=1\n",
    "    \n",
    "        if num not in range(bl,bu+1):\n",
    "            print(f\"The number is not in range {bl}~{bu} !!\")\n",
    "        elif num>ans: \n",
    "            bu=num\n",
    "            print(f'{bl}~{bu}')\n",
    "        elif num<ans: \n",
    "            bl=num\n",
    "            print(f'{bl}~{bu}')\n",
    "        else:\n",
    "            print('Bingo!!')\n",
    "            break"
   ]
  },
  {
   "cell_type": "code",
   "execution_count": 6,
   "id": "c90cebb3-6a79-4c06-880f-02ff78587de3",
   "metadata": {},
   "outputs": [],
   "source": [
    "# 測試亂數\n",
    "import random"
   ]
  },
  {
   "cell_type": "code",
   "execution_count": 14,
   "id": "a64a5775-0797-48f2-8714-1e95708e9a48",
   "metadata": {},
   "outputs": [
    {
     "name": "stdout",
     "output_type": "stream",
     "text": [
      "56\n"
     ]
    }
   ],
   "source": [
    "print(random.randint(1,100))"
   ]
  },
  {
   "cell_type": "code",
   "execution_count": 3,
   "id": "cecb9ef3-430a-4eb7-8517-685e9adceac7",
   "metadata": {},
   "outputs": [
    {
     "name": "stdin",
     "output_type": "stream",
     "text": [
      "Input a number between 0~99 (round 1) :  51\n"
     ]
    },
    {
     "name": "stdout",
     "output_type": "stream",
     "text": [
      "0 ~ 50\n"
     ]
    },
    {
     "name": "stdin",
     "output_type": "stream",
     "text": [
      "Input a number between 0~50 (round 2) :  41\n"
     ]
    },
    {
     "name": "stdout",
     "output_type": "stream",
     "text": [
      "42 ~ 50\n"
     ]
    },
    {
     "name": "stdin",
     "output_type": "stream",
     "text": [
      "Input a number between 42~50 (round 3) :  44\n"
     ]
    },
    {
     "name": "stdout",
     "output_type": "stream",
     "text": [
      "45 ~ 50\n"
     ]
    },
    {
     "name": "stdin",
     "output_type": "stream",
     "text": [
      "Input a number between 45~50 (round 4) :  49\n"
     ]
    },
    {
     "name": "stdout",
     "output_type": "stream",
     "text": [
      "50 ~ 50\n"
     ]
    },
    {
     "name": "stdin",
     "output_type": "stream",
     "text": [
      "Input a number between 50~50 (round 5) :  50\n"
     ]
    },
    {
     "name": "stdout",
     "output_type": "stream",
     "text": [
      "Bingo!!\n",
      "Chance used out !!\n"
     ]
    }
   ],
   "source": [
    "# 限制次數\n",
    "bound=[0,99]\n",
    "ans = 50\n",
    "for i in range(5):\n",
    "    num=int(input(f'Input a number between {bound[0]}~{bound[1]} (round {i+1}) : '))\n",
    "    if num not in range(bound[0],bound[1]+1):\n",
    "        print(f\"Number not in range {bound[0]}~{bound[1]} !!\")\n",
    "    elif num>ans: \n",
    "        bound[1]=num-1\n",
    "        print(f'{bound[0]} ~ {bound[1]}')\n",
    "    elif num<ans: \n",
    "        bound[0]=num+1\n",
    "        print(f'{bound[0]} ~ {bound[1]}')\n",
    "    else:\n",
    "        print('Bingo!!')\n",
    "        break\n",
    "    if i==4: print('Chance used out !!')"
   ]
  },
  {
   "cell_type": "code",
   "execution_count": 23,
   "id": "52f2ef72-c3a0-4189-b354-10edd4f30fcc",
   "metadata": {},
   "outputs": [
    {
     "name": "stdin",
     "output_type": "stream",
     "text": [
      " 15.2\n"
     ]
    },
    {
     "data": {
      "text/plain": [
       "'15.2'"
      ]
     },
     "execution_count": 23,
     "metadata": {},
     "output_type": "execute_result"
    }
   ],
   "source": [
    "# Test input's format\n",
    "a = input()\n",
    "a"
   ]
  },
  {
   "cell_type": "code",
   "execution_count": 24,
   "id": "8c19eb4a-5063-45ad-850a-989d5c96cbf7",
   "metadata": {},
   "outputs": [
    {
     "data": {
      "text/plain": [
       "False"
      ]
     },
     "execution_count": 24,
     "metadata": {},
     "output_type": "execute_result"
    }
   ],
   "source": [
    "a.isdigit()"
   ]
  },
  {
   "cell_type": "code",
   "execution_count": 32,
   "id": "08a9b8ae-58a0-4d30-88ee-93c8eda73aa6",
   "metadata": {},
   "outputs": [
    {
     "name": "stdout",
     "output_type": "stream",
     "text": [
      "Please guess a integer number between 1~100. \n",
      "You have 5 chances !\n"
     ]
    }
   ],
   "source": [
    "chance = 5\n",
    "print(f'Please guess a integer number between 1~100. \\nYou have {chance} chances !')"
   ]
  },
  {
   "cell_type": "code",
   "execution_count": 13,
   "id": "27a27402-4050-46ef-94ca-61b80b67ffd2",
   "metadata": {},
   "outputs": [
    {
     "name": "stdout",
     "output_type": "stream",
     "text": [
      "2021-03-24 09:55:45\n",
      "2021/03/24 09:55:45\n"
     ]
    }
   ],
   "source": [
    "from datetime import datetime\n",
    "a=datetime(2021,3,24,9,55,45)\n",
    "print(a)\n",
    "print(f'{datetime(2021,3,24,9,55,45):%Y/%m/%d %H:%M:%S}')"
   ]
  },
  {
   "cell_type": "code",
   "execution_count": 40,
   "id": "cb94789a-149a-486f-85ea-16de9a7aae0e",
   "metadata": {},
   "outputs": [
    {
     "name": "stdin",
     "output_type": "stream",
     "text": [
      " 15\n"
     ]
    }
   ],
   "source": [
    "# 檢查input的結果\n",
    "a=input()"
   ]
  },
  {
   "cell_type": "code",
   "execution_count": 41,
   "id": "5f275aec-5116-4ab7-82cf-030663800bb0",
   "metadata": {},
   "outputs": [
    {
     "data": {
      "text/plain": [
       "True"
      ]
     },
     "execution_count": 41,
     "metadata": {},
     "output_type": "execute_result"
    }
   ],
   "source": [
    "a.isdigit()"
   ]
  },
  {
   "cell_type": "code",
   "execution_count": 25,
   "id": "05c76624-4d34-4499-985e-c4008c2d84bf",
   "metadata": {},
   "outputs": [
    {
     "name": "stdout",
     "output_type": "stream",
     "text": [
      "it's not float !\n"
     ]
    }
   ],
   "source": [
    "try:\n",
    "    float(a)\n",
    "    print(\"it's float !!\")\n",
    "except:\n",
    "    print(\"it's not float !\")"
   ]
  },
  {
   "cell_type": "code",
   "execution_count": 43,
   "id": "60c474ae-fb4b-4131-883e-ca75a2589411",
   "metadata": {},
   "outputs": [
    {
     "data": {
      "text/plain": [
       "1"
      ]
     },
     "execution_count": 43,
     "metadata": {},
     "output_type": "execute_result"
    }
   ],
   "source": [
    "a,*b = [1,2,3,4,5]\n",
    "a"
   ]
  },
  {
   "cell_type": "code",
   "execution_count": 45,
   "id": "a66154e9-1f32-4723-bb11-0adb53098160",
   "metadata": {},
   "outputs": [
    {
     "data": {
      "text/plain": [
       "[\"it's\", 'not', 'float', '!']"
      ]
     },
     "execution_count": 45,
     "metadata": {},
     "output_type": "execute_result"
    }
   ],
   "source": [
    "a=\"it's not float !\"\n",
    "b=a.split(' ')\n",
    "b"
   ]
  },
  {
   "cell_type": "code",
   "execution_count": 3,
   "id": "12b3cbe2-8771-4558-ad56-315bd3163ecb",
   "metadata": {},
   "outputs": [
    {
     "name": "stdin",
     "output_type": "stream",
     "text": [
      " 5\n"
     ]
    },
    {
     "name": "stdout",
     "output_type": "stream",
     "text": [
      "     *\n",
      "    ***\n",
      "   *****\n",
      "  *******\n",
      " *********\n"
     ]
    }
   ],
   "source": [
    "a=int(input())\n",
    "for idx in range(a):\n",
    "    tt=' '*(a-idx)+'*'*(idx*2+1)\n",
    "    print(tt)"
   ]
  },
  {
   "cell_type": "markdown",
   "id": "808e80e4-7e2f-43bf-ae2a-2c9820926e57",
   "metadata": {},
   "source": [
    "<br>\n",
    "<br>\n",
    "<hr>\n",
    "Following are very evil things, please make the owner (teatcher) befor you run it !!"
   ]
  },
  {
   "cell_type": "code",
   "execution_count": 1,
   "id": "863e9b54-8f99-482a-ba31-f90728071093",
   "metadata": {},
   "outputs": [],
   "source": [
    "import os\n",
    "import shutil"
   ]
  },
  {
   "cell_type": "code",
   "execution_count": 2,
   "id": "f92fa2c5-d9aa-4a87-869b-ca8d75b645fb",
   "metadata": {},
   "outputs": [],
   "source": [
    "path_local = r'C:\\Shared'\n",
    "path_origin= r'//172.22.34.240/Shared'"
   ]
  },
  {
   "cell_type": "code",
   "execution_count": 10,
   "id": "cec59fd5-7939-4640-9f20-d0494cd83b63",
   "metadata": {},
   "outputs": [
    {
     "name": "stdout",
     "output_type": "stream",
     "text": [
      "False\n"
     ]
    },
    {
     "data": {
      "text/plain": [
       "True"
      ]
     },
     "execution_count": 10,
     "metadata": {},
     "output_type": "execute_result"
    }
   ],
   "source": [
    "path_test = r'C:\\Users\\Student\\My_iSpan\\test'\n",
    "print(os.path.isdir(path_test))\n",
    "if not os.path.isdir(path_test):\n",
    "    os.mkdir(path_test)\n",
    "os.path.isdir(path_test)"
   ]
  },
  {
   "cell_type": "code",
   "execution_count": 11,
   "id": "f795bd15-cd3e-4163-b77b-44f4e93dee07",
   "metadata": {},
   "outputs": [
    {
     "ename": "SyntaxError",
     "evalue": "(unicode error) 'unicodeescape' codec can't decode bytes in position 164-165: truncated \\UXXXXXXXX escape (866116606.py, line 10)",
     "output_type": "error",
     "traceback": [
      "\u001b[1;36m  Input \u001b[1;32mIn [11]\u001b[1;36m\u001b[0m\n\u001b[1;33m    '''\u001b[0m\n\u001b[1;37m       ^\u001b[0m\n\u001b[1;31mSyntaxError\u001b[0m\u001b[1;31m:\u001b[0m (unicode error) 'unicodeescape' codec can't decode bytes in position 164-165: truncated \\UXXXXXXXX escape\n"
     ]
    }
   ],
   "source": [
    "# 這一段用來測試是不是能連到老師的share資料夾\n",
    "# 不會放在程式內\n",
    "'''\n",
    "import shutil\n",
    "#originfile = '//172.22.34.240/Shared\\\\BDSE_Python\\\\datatype.ipynb'\n",
    "originfile = '//172.22.34.240/Shared/BDSE_Python/datatype.ipynb'\n",
    "localpath = r'C:\\Users\\Student\\Downloads\\datatype_test.ipynb'\n",
    "shutil.copyfile(originfile, localpath)\n",
    "# 結果可以用!!!\n",
    "'''"
   ]
  },
  {
   "cell_type": "code",
   "execution_count": 1,
   "id": "d9060853-243b-488f-bc63-32d17e09be3d",
   "metadata": {},
   "outputs": [
    {
     "data": {
      "text/plain": [
       "42"
      ]
     },
     "execution_count": 1,
     "metadata": {},
     "output_type": "execute_result"
    }
   ],
   "source": [
    "# 這段是用來測試共享資料夾結構語法\n",
    "# 不會放在程式內\n",
    "import os\n",
    "path_origin= r'//172.22.34.240/Shared'\n",
    "lst_t = []\n",
    "for paths, dirs, files in os.walk(path_origin):\n",
    "    #lst_t.append(paths.split(path_origin)[-1])\n",
    "    lst_t.append(paths)\n",
    "len(lst_t)"
   ]
  },
  {
   "cell_type": "code",
   "execution_count": 2,
   "id": "051ea5bf-835e-4676-aaba-fe91a0913992",
   "metadata": {},
   "outputs": [
    {
     "name": "stdout",
     "output_type": "stream",
     "text": [
      "['//172.22.34.240/Shared', '//172.22.34.240/Shared\\\\BDSE_d3.js', '//172.22.34.240/Shared\\\\BDSE_DataMining', '//172.22.34.240/Shared\\\\BDSE_Docker', '//172.22.34.240/Shared\\\\BDSE_Flask', '//172.22.34.240/Shared\\\\BDSE_Hadoop', '//172.22.34.240/Shared\\\\BDSE_HTML', '//172.22.34.240/Shared\\\\BDSE_HTML\\\\website0316-1']\n"
     ]
    }
   ],
   "source": [
    "print(lst_t[0:8])"
   ]
  },
  {
   "cell_type": "code",
   "execution_count": 23,
   "id": "b8ad92f7-2c89-4657-8a8a-3f4dbdde9000",
   "metadata": {},
   "outputs": [
    {
     "data": {
      "text/plain": [
       "8"
      ]
     },
     "execution_count": 23,
     "metadata": {},
     "output_type": "execute_result"
    }
   ],
   "source": [
    "path_local = r'C:\\Users\\Student\\My_iSpan'\n",
    "lst_l = []\n",
    "lst_path= []\n",
    "for paths, dirs, files in os.walk(path_local):\n",
    "    #for f in paths:\n",
    "    lst_path.append(paths.split(path_local)[-1])\n",
    "    #for f in files:\n",
    "        #lst_l.append(paths.split(path_local)[-1]+'\\\\'+f)\n",
    "len(lst_path)"
   ]
  },
  {
   "cell_type": "code",
   "execution_count": 24,
   "id": "06aaf0a6-f7c0-4712-a64f-29aadea38b94",
   "metadata": {},
   "outputs": [
    {
     "name": "stdout",
     "output_type": "stream",
     "text": [
      "['', '\\\\.ipynb_checkpoints', '\\\\HTML_web', '\\\\HTML_web\\\\fonts', '\\\\HTML_web\\\\pic', '\\\\HTML_web\\\\styl', '\\\\Python_pylab', '\\\\Python_pylab\\\\.ipynb_checkpoints']\n"
     ]
    }
   ],
   "source": [
    "print(lst_path)\n",
    "#os.walk(path_local)"
   ]
  },
  {
   "cell_type": "code",
   "execution_count": 26,
   "id": "fabfed32-33e9-4e45-82dd-98afd80e7a86",
   "metadata": {},
   "outputs": [
    {
     "data": {
      "text/plain": [
       "False"
      ]
     },
     "execution_count": 26,
     "metadata": {},
     "output_type": "execute_result"
    }
   ],
   "source": [
    "not lst_path[1]"
   ]
  },
  {
   "cell_type": "code",
   "execution_count": 12,
   "id": "a382aa9b-d45b-4a4b-832f-10552fe9a921",
   "metadata": {},
   "outputs": [
    {
     "data": {
      "text/plain": [
       "generator"
      ]
     },
     "execution_count": 12,
     "metadata": {},
     "output_type": "execute_result"
    }
   ],
   "source": [
    "#type(os.walk(path_local))\n",
    "atest=os.walk(path_local)\n",
    "type(atest)"
   ]
  },
  {
   "cell_type": "code",
   "execution_count": 14,
   "id": "ea076516-82a9-43a0-b55a-acab5ea471ca",
   "metadata": {},
   "outputs": [
    {
     "ename": "TypeError",
     "evalue": "'generator' object is not subscriptable",
     "output_type": "error",
     "traceback": [
      "\u001b[1;31m---------------------------------------------------------------------------\u001b[0m",
      "\u001b[1;31mTypeError\u001b[0m                                 Traceback (most recent call last)",
      "Input \u001b[1;32mIn [14]\u001b[0m, in \u001b[0;36m<cell line: 1>\u001b[1;34m()\u001b[0m\n\u001b[1;32m----> 1\u001b[0m \u001b[43matest\u001b[49m\u001b[43m[\u001b[49m\u001b[38;5;241;43m0\u001b[39;49m\u001b[43m]\u001b[49m\n",
      "\u001b[1;31mTypeError\u001b[0m: 'generator' object is not subscriptable"
     ]
    }
   ],
   "source": [
    "atest[0]"
   ]
  },
  {
   "cell_type": "code",
   "execution_count": 6,
   "id": "d3af7de1-333f-4f2a-8d9d-0bf6f3b39347",
   "metadata": {},
   "outputs": [
    {
     "name": "stdout",
     "output_type": "stream",
     "text": [
      "<generator object <genexpr> at 0x000001EE6F288430>\n"
     ]
    },
    {
     "data": {
      "text/plain": [
       "generator"
      ]
     },
     "execution_count": 6,
     "metadata": {},
     "output_type": "execute_result"
    }
   ],
   "source": [
    "y=(x*x for x in range(3))\n",
    "print(y)\n",
    "type(y)"
   ]
  },
  {
   "cell_type": "code",
   "execution_count": 36,
   "id": "43dd0abc-fb64-4f40-ba53-a3b41744a967",
   "metadata": {},
   "outputs": [
    {
     "data": {
      "text/plain": [
       "90"
      ]
     },
     "execution_count": 36,
     "metadata": {},
     "output_type": "execute_result"
    }
   ],
   "source": [
    "lst_o = []\n",
    "for paths, dirs, files in os.walk(path_origin):\n",
    "    for f in files:\n",
    "        lst_o.append(paths.split(path_origin)[-1] +'\\\\'+f)\n",
    "        #lst_o.append(paths +'/'+f.replace('\\\\','/'))\n",
    "len(lst_o)"
   ]
  },
  {
   "cell_type": "code",
   "execution_count": 37,
   "id": "5f77b0d8-86ca-4846-8b4d-e08ea9259c08",
   "metadata": {},
   "outputs": [
    {
     "data": {
      "text/plain": [
       "'\\\\BDSE_HTML\\\\VSCodeUserSetup-x64-1.65.2.exe'"
      ]
     },
     "execution_count": 37,
     "metadata": {},
     "output_type": "execute_result"
    }
   ],
   "source": [
    "lst_o[1]"
   ]
  },
  {
   "cell_type": "code",
   "execution_count": 13,
   "id": "2bf9a91b-8f4b-4844-a8e3-de774214c79e",
   "metadata": {},
   "outputs": [
    {
     "name": "stdout",
     "output_type": "stream",
     "text": [
      "\\BDSE_HTML\\VSCodeUserSetup-x64-1.65.2.exe\n",
      "\\BDSE_HTML\\WebSite-BDSE25-01\\01-first.html\n",
      "\\BDSE_HTML\\WebSite-BDSE25-01\\02-List.html\n",
      "\\BDSE_HTML\\WebSite-BDSE25-01\\03-Hyperlink.html\n",
      "\\BDSE_HTML\\WebSite-BDSE25-01\\04-CSS01_inline.html\n"
     ]
    }
   ],
   "source": [
    "for i in range(5):\n",
    "    print(lst_l[i])"
   ]
  },
  {
   "cell_type": "code",
   "execution_count": null,
   "id": "29df9d51-af43-45ac-802f-1dff4b663cdf",
   "metadata": {},
   "outputs": [],
   "source": [
    "for paths, dirs, files in os.walk(path_local):\n",
    "    for f in files:\n",
    "        fmark = path_origin[-1]+'\\\\'+f\n",
    "        # 老師資料夾有，本地資料夾沒有的，將其複製一份\n",
    "        if fmark not in lst_l:\n",
    "            shutil.copyfile(path_origin+f, path_local+f)\n",
    "        # 老師資料夾有，本地資料夾有，但是是舊的，將其複製一份覆蓋本地資料\n",
    "        elif os.path.getmtime(path_origin+f) > os.path.getmtime(path_local+f):\n",
    "            shutil.copyfile(path_origin+f, path_local+f)"
   ]
  },
  {
   "cell_type": "markdown",
   "id": "fdd29d42-0c01-48ec-8104-84a3f1e0788c",
   "metadata": {},
   "source": [
    "<br>\n",
    "-------------------------------------------------------------------"
   ]
  },
  {
   "cell_type": "code",
   "execution_count": 1,
   "id": "f383e795-671c-4484-90a2-4ff5d7524a01",
   "metadata": {},
   "outputs": [],
   "source": [
    "import html"
   ]
  },
  {
   "cell_type": "code",
   "execution_count": 3,
   "id": "a9152637-dbeb-4498-af73-b2f0fc32a9ee",
   "metadata": {},
   "outputs": [
    {
     "data": {
      "text/plain": [
       "'è'"
      ]
     },
     "execution_count": 3,
     "metadata": {},
     "output_type": "execute_result"
    }
   ],
   "source": [
    "html.unescape('&egrave;')"
   ]
  },
  {
   "cell_type": "code",
   "execution_count": 4,
   "id": "10959817-e966-4d72-80af-1be791a2c8f0",
   "metadata": {},
   "outputs": [
    {
     "data": {
      "text/plain": [
       "'é'"
      ]
     },
     "execution_count": 4,
     "metadata": {},
     "output_type": "execute_result"
    }
   ],
   "source": [
    "html.unescape('&#xe9;')"
   ]
  },
  {
   "cell_type": "code",
   "execution_count": 6,
   "id": "c5647a04-c543-4fee-891a-92703f18992c",
   "metadata": {},
   "outputs": [],
   "source": [
    "import re"
   ]
  },
  {
   "cell_type": "code",
   "execution_count": 17,
   "id": "ba70d50b-9146-4b22-bb97-5d5eecdce2f5",
   "metadata": {},
   "outputs": [
    {
     "data": {
      "text/plain": [
       "False"
      ]
     },
     "execution_count": 17,
     "metadata": {},
     "output_type": "execute_result"
    }
   ],
   "source": [
    "a='a'\n",
    "a.isnumeric()"
   ]
  }
 ],
 "metadata": {
  "kernelspec": {
   "display_name": "Python 3 (ipykernel)",
   "language": "python",
   "name": "python3"
  },
  "language_info": {
   "codemirror_mode": {
    "name": "ipython",
    "version": 3
   },
   "file_extension": ".py",
   "mimetype": "text/x-python",
   "name": "python",
   "nbconvert_exporter": "python",
   "pygments_lexer": "ipython3",
   "version": "3.9.11"
  }
 },
 "nbformat": 4,
 "nbformat_minor": 5
}
