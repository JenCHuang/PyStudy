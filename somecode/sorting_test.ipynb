{
 "cells": [
  {
   "cell_type": "code",
   "execution_count": 1,
   "id": "eb8f14e4",
   "metadata": {},
   "outputs": [],
   "source": [
    "def swapByValue(data,i,j):\n",
    "    tmp=data.index(j)\n",
    "    data[data.index(i)] = j\n",
    "    data[tmp] = i\n",
    "\n",
    "def SelectionSort(data):\n",
    "    result = data.copy()\n",
    "    ind = 0\n",
    "    for i in result:\n",
    "        t = i\n",
    "        ind+=1\n",
    "        for j in result[ind:]:\n",
    "            if j < t: t=j\n",
    "        if t != i:\n",
    "            swapByValue(result,i,t)\n",
    "    return result"
   ]
  },
  {
   "cell_type": "code",
   "execution_count": 2,
   "id": "64cf684c",
   "metadata": {},
   "outputs": [],
   "source": [
    "def swap(data,i,j):\n",
    "    tmp = data[i]\n",
    "    data[i]=data[j]\n",
    "    data[j]=tmp\n",
    "\n",
    "def BubbleSort(data):\n",
    "    result = data.copy()\n",
    "    flag=True\n",
    "    while flag:\n",
    "        for i in range(len(result)):\n",
    "            flag=False\n",
    "            for j in range(len(result)-i-1):\n",
    "                if result[j]>result[j+1]:\n",
    "                    swap(result,j,j+1)\n",
    "                    flag=True\n",
    "    return result\n",
    "\n",
    "def ShakerSort(data):\n",
    "    result = data.copy()\n",
    "    left=0\n",
    "    right=len(result)-1\n",
    "    flag=0\n",
    "    while right>left:\n",
    "        contral=left\n",
    "        while contral<right:\n",
    "            if result[contral] > result[contral+1]:\n",
    "                swap(result,contral,contral+1)\n",
    "                flag=contral\n",
    "            contral+=1\n",
    "        right,contral=flag,flag\n",
    "        while contral>left:\n",
    "            if result[contral] < result[contral-1]:\n",
    "                swap(result,contral,contral-1)\n",
    "                flag=contral\n",
    "            contral-=1\n",
    "        left = flag\n",
    "    return result"
   ]
  },
  {
   "cell_type": "code",
   "execution_count": 35,
   "id": "29d5ebb6",
   "metadata": {},
   "outputs": [],
   "source": [
    "def QuickSort(data,left=0,right=None):\n",
    "    if right == None: right=len(data)-1\n",
    "    if left >= right: return data\n",
    "    result = list(data)\n",
    "    pivot = result[left]\n",
    "    i,j=left,right\n",
    "    while i < j:\n",
    "        while (i<j and result[i]<=pivot): i+=1\n",
    "        while (j>i and result[j]>pivot): j-=1\n",
    "        if i!=j: \n",
    "            swap(result,i,j)\n",
    "    if result[i] < pivot:\n",
    "        result[left] = result[i]\n",
    "        result[i] = pivot\n",
    "    else:\n",
    "        i=i-1\n",
    "        result[left] = result[i]\n",
    "        result[i] = pivot\n",
    "    \n",
    "    result=QuickSort(result,left,i-1)\n",
    "    result=QuickSort(result,i+1,right)\n",
    "    return result"
   ]
  },
  {
   "cell_type": "code",
   "execution_count": 29,
   "id": "0f0bd7da",
   "metadata": {},
   "outputs": [],
   "source": [
    "y = [10,34,65,22,15,102,2,9,147,81]"
   ]
  },
  {
   "cell_type": "code",
   "execution_count": 30,
   "id": "581caf94",
   "metadata": {
    "scrolled": true
   },
   "outputs": [
    {
     "name": "stdout",
     "output_type": "stream",
     "text": [
      "[10, 34, 65, 22, 15, 102, 2, 9, 147, 81]\n"
     ]
    },
    {
     "data": {
      "text/plain": [
       "[2, 9, 10, 15, 22, 34, 65, 81, 102, 147]"
      ]
     },
     "execution_count": 30,
     "metadata": {},
     "output_type": "execute_result"
    }
   ],
   "source": [
    "#%%timeit\n",
    "print(y)\n",
    "SelectionSort(y)"
   ]
  },
  {
   "cell_type": "code",
   "execution_count": 31,
   "id": "eafaa475",
   "metadata": {},
   "outputs": [
    {
     "data": {
      "text/plain": [
       "[2, 9, 10, 15, 22, 34, 65, 81, 102, 147]"
      ]
     },
     "execution_count": 31,
     "metadata": {},
     "output_type": "execute_result"
    }
   ],
   "source": [
    "x=SelectionSort(y)\n",
    "x"
   ]
  },
  {
   "cell_type": "code",
   "execution_count": 8,
   "id": "877a8385",
   "metadata": {},
   "outputs": [
    {
     "name": "stdout",
     "output_type": "stream",
     "text": [
      "[10, 34, 65, 22, 15, 102, 2, 9, 147, 81]\n"
     ]
    },
    {
     "data": {
      "text/plain": [
       "[2, 9, 10, 15, 22, 34, 65, 81, 102, 147]"
      ]
     },
     "execution_count": 8,
     "metadata": {},
     "output_type": "execute_result"
    }
   ],
   "source": [
    "#%%timeit\n",
    "print(y)\n",
    "BubbleSort(y)"
   ]
  },
  {
   "cell_type": "code",
   "execution_count": 9,
   "id": "0494e799",
   "metadata": {},
   "outputs": [
    {
     "name": "stdout",
     "output_type": "stream",
     "text": [
      "[10, 34, 65, 22, 15, 102, 2, 9, 147, 81]\n"
     ]
    },
    {
     "data": {
      "text/plain": [
       "[2, 9, 10, 15, 22, 34, 65, 81, 102, 147]"
      ]
     },
     "execution_count": 9,
     "metadata": {},
     "output_type": "execute_result"
    }
   ],
   "source": [
    "#%%timeit\n",
    "print(y)\n",
    "ShakerSort(y)"
   ]
  },
  {
   "cell_type": "code",
   "execution_count": 36,
   "id": "c578fd72",
   "metadata": {
    "scrolled": false
   },
   "outputs": [
    {
     "name": "stdout",
     "output_type": "stream",
     "text": [
      "[10, 34, 65, 22, 15, 102, 2, 9, 147, 81]\n"
     ]
    },
    {
     "data": {
      "text/plain": [
       "[2, 9, 10, 15, 22, 34, 65, 81, 102, 147]"
      ]
     },
     "execution_count": 36,
     "metadata": {},
     "output_type": "execute_result"
    }
   ],
   "source": [
    "#%%timeit\n",
    "print(y)\n",
    "QuickSort(y)"
   ]
  },
  {
   "cell_type": "code",
   "execution_count": null,
   "id": "b2157ff4",
   "metadata": {},
   "outputs": [],
   "source": [
    "#%%timeit\n",
    "print(y)\n",
    "print(QuickSort(y))\n",
    "print(y)"
   ]
  },
  {
   "cell_type": "code",
   "execution_count": null,
   "id": "88ba28c2",
   "metadata": {},
   "outputs": [],
   "source": [
    "[10, 34, 65, 22, 15, 102, 2, 9, 147, 81]\n",
    "[2, 9, 10, 22, 15, 102, 65, 34, 147, 81]\n",
    "[22, 15, 102, 65, 34, 147, 81]\n"
   ]
  },
  {
   "cell_type": "code",
   "execution_count": 34,
   "id": "1772d7ce",
   "metadata": {},
   "outputs": [],
   "source": [
    "data=[]\n",
    "p=list(data)"
   ]
  }
 ],
 "metadata": {
  "kernelspec": {
   "display_name": "Python 3 (ipykernel)",
   "language": "python",
   "name": "python3"
  },
  "language_info": {
   "codemirror_mode": {
    "name": "ipython",
    "version": 3
   },
   "file_extension": ".py",
   "mimetype": "text/x-python",
   "name": "python",
   "nbconvert_exporter": "python",
   "pygments_lexer": "ipython3",
   "version": "3.8.13"
  }
 },
 "nbformat": 4,
 "nbformat_minor": 5
}
