{
 "cells": [
  {
   "cell_type": "markdown",
   "id": "1ddee3bb",
   "metadata": {},
   "source": [
    "<h2>Two Sum</h2>\n",
    "Given an array of integers nums and an integer target, return indices of the two numbers such that they add up to target. <br>\n",
    "You may assume that each input would have exactly one solution, and you may not use the same element twice.<br>\n",
    "You can return the answer in any order."
   ]
  },
  {
   "cell_type": "code",
   "execution_count": 1,
   "id": "21ba7feb",
   "metadata": {},
   "outputs": [],
   "source": [
    "#num = [2,7,11,15]\n",
    "#target = 9\n",
    "num = [3,2,4]\n",
    "target = 6"
   ]
  },
  {
   "cell_type": "code",
   "execution_count": 2,
   "id": "4b9fe3f2",
   "metadata": {},
   "outputs": [
    {
     "name": "stdout",
     "output_type": "stream",
     "text": [
      "[0, 0]\n",
      "[0, 1]\n",
      "[1, 0]\n",
      "Return [1, 2]\n"
     ]
    }
   ],
   "source": [
    "for i in range(len(num[:-1])):\n",
    "    for j in range(len(num[i+1:])):\n",
    "        print([i,j])\n",
    "        j2=i+j+1\n",
    "        if (num[i]+num[j2] == target):\n",
    "            print(f'Return [{i}, {j2}]')"
   ]
  },
  {
   "cell_type": "markdown",
   "id": "9ad18ef6",
   "metadata": {},
   "source": [
    "Review & Final code"
   ]
  },
  {
   "cell_type": "code",
   "execution_count": 5,
   "id": "dbdb907c-1fc9-4cb1-af60-9af33071c989",
   "metadata": {},
   "outputs": [
    {
     "name": "stdout",
     "output_type": "stream",
     "text": [
      "Return [1, 2]\n"
     ]
    }
   ],
   "source": [
    "for i in range(len(num[:-1])):\n",
    "    if (target-num[i]) in num[i+1:]:\n",
    "        print(f'Return [{i}, {num.index(target-num[i])}]')"
   ]
  },
  {
   "cell_type": "markdown",
   "id": "de59a090",
   "metadata": {},
   "source": [
    "<h2>Palindrome Number</h2>\n",
    "Given an integer x, return true if x is palindrome integer. <br>\n",
    "An integer is a palindrome when it reads the same backward as forward."
   ]
  }
 ],
 "metadata": {
  "kernelspec": {
   "display_name": "Python 3 (ipykernel)",
   "language": "python",
   "name": "python3"
  },
  "language_info": {
   "codemirror_mode": {
    "name": "ipython",
    "version": 3
   },
   "file_extension": ".py",
   "mimetype": "text/x-python",
   "name": "python",
   "nbconvert_exporter": "python",
   "pygments_lexer": "ipython3",
   "version": "3.9.11"
  }
 },
 "nbformat": 4,
 "nbformat_minor": 5
}
